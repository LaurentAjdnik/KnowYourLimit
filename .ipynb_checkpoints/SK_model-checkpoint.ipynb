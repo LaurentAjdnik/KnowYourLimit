{
 "cells": [
  {
   "cell_type": "markdown",
   "metadata": {},
   "source": [
    "We will illustrate our current progress with the SK model. Recall that the goal of this project is to develop a package to understand the limitations imposed by noise on near-term quantum algorithms for optimization. The SK-model is a widely studied model for spin glasses. It corresponds to the following (random) Ising spin Hamiltonian on $n$ spins:\n",
    "$$H=\\sum\\limits_{i,j}^ng_{i,j}Z_iZ_j,$$\n",
    "with $g_{i,j}\\sim\\mathcal{N}(0,n^{-\\frac{1}{2}})$. Our goal will be to see how noise affects our hability to find the ground state of such models. The SK-model is a good candidate to try out the package for the following reasons:\n",
    "1. It has full connectivity. Thus, to implement QAOA and other near-term variational algorithms we ned to implement unitaries on all qubits. This will allow us to demonstrate the importance of the connectivity of the quantum device, not only the noise rate, to obtain a quantum  advantage. \n",
    "2. The optimal parameters of the QAOA unitary are known (in the noiseless case). See [this paper](https://arxiv.org/pdf/1910.08187.pdf) for more details. Of course it is not necessarily the case that these are also the optimal parameters in the presence of noise, but it gives us one reasonable choice of QAOA parameters.\n",
    "3. Google tested out QAOA for this model on the Sycamore device, see [this paper](https://arxiv.org/pdf/2004.04197.pdf). Thus, we will be able to compare our predictions to results from actual experiments!\n",
    "\n",
    "The goal of this notebook will be to compare the predictions of the KnowYourLimits package with the values achieved by Sycamore on Google's experiment.\n",
    "\n",
    "Let us start by setting up the problem. The KnowYourLimits package requires us to input a (weighted) graph that described the problem we wish to solve in the Networkx format. Let us set this up for the SK-model.\n"
   ]
  },
  {
   "cell_type": "markdown",
   "metadata": {},
   "source": [
    "This function will output an instance of the SK-model  on $n$ spins:"
   ]
  },
  {
   "cell_type": "code",
   "execution_count": 1,
   "metadata": {},
   "outputs": [],
   "source": [
    "import networkx as nx\n",
    "import numpy as np\n",
    "def sk_model(n):\n",
    "    problem_graph=nx.complete_graph(n)\n",
    "    nx.set_edge_attributes(problem_graph, values=1, name='weight')\n",
    "    for i in range(0,n):\n",
    "        for j in range(i+1,n):\n",
    "            problem_graph[i][j]['weight']=(np.sqrt(n))**(-1)*np.random.randn()\n",
    "    return problem_graph\n",
    "#We will now choose the size of the system we wish to analyse. We will choose 12 for everything to run in fractions\n",
    "#of a second. But the methods can easily handle hundreds of  qubits.\n",
    "n=12\n",
    "problem_graph=sk_model(n)\n",
    "\n",
    "        \n",
    "    "
   ]
  },
  {
   "cell_type": "markdown",
   "metadata": {},
   "source": [
    "The next step is to specify is a noise model, given by a quantum channel. Right now we only support one noise rate for both 1-qubit and 2-qubit gates, but this will change in the near-term. The noise model is specified by a list of Kraus operators, which can be easily generated with cirq. Here we will pick the depolarizing channel as our noise model and will choose Sycamore's 2-qubit noise rate (99.4%) as our rate."
   ]
  },
  {
   "cell_type": "code",
   "execution_count": 2,
   "metadata": {},
   "outputs": [],
   "source": [
    "try:\n",
    "    import cirq\n",
    "except ImportError:\n",
    "    !pip install --quiet cirq\n",
    "    import cirq\n",
    "\n",
    "depo = cirq.depolarize(\n",
    "    p=0.006\n",
    ")\n",
    "#converts to a list of Kraus  operators\n",
    "noise=cirq.channel(depo)\n"
   ]
  },
  {
   "cell_type": "markdown",
   "metadata": {},
   "source": [
    "The next step is to specify the circuit we wish to implement. As we have a QAOA circuit, we only have to specify the values of the $\\gamma$s and $\\beta$s and the graph, which we ahve already specfied. In the experiment they implemented $3$ layers of QAOA, so let us take the optimal values for three layers:"
   ]
  },
  {
   "cell_type": "code",
   "execution_count": 3,
   "metadata": {},
   "outputs": [],
   "source": [
    "gammas=[0.3297, 0.5688, 0.6406]\n",
    "betas=[0.5500, 0.3675, 0.2109]\n"
   ]
  },
  {
   "cell_type": "markdown",
   "metadata": {},
   "source": [
    "Now we have to specify the device to also route the compiled circuit. We will use tket to specify the device. We will now convert the Sycamore device's graph to this format and save it to tk_device."
   ]
  },
  {
   "cell_type": "code",
   "execution_count": 4,
   "metadata": {},
   "outputs": [],
   "source": [
    "import cirq.google as cg\n",
    "import cirq.contrib.routing as ccr\n",
    "device = cg.Sycamore23\n",
    "try:\n",
    "    import recirq\n",
    "except ImportError:\n",
    "    !pip install --quiet git+https://github.com/quantumlib/ReCirq\n",
    "from recirq.qaoa.problem_circuits import get_generic_qaoa_circuit\n",
    "from recirq.qaoa.gates_and_compilation import compile_problem_unitary_to_arbitrary_zz, \\\n",
    "    compile_driver_unitary_to_rx\n",
    "\n",
    "\n",
    "import pytket\n",
    "from pytket.predicates import CompilationUnit, ConnectivityPredicate\n",
    "from pytket.passes import SequencePass, RoutingPass, DecomposeSwapsToCXs\n",
    "from pytket.routing import GraphPlacement\n",
    "from pytket.circuit import Node\n",
    "\n",
    "def _qubit_index_edges():\n",
    "    dev_graph = ccr.xmon_device_to_graph(device)\n",
    "    for n1, n2 in dev_graph.edges:\n",
    "        yield Node('grid', n1.row, n1.col), Node('grid', n2.row, n2.col)\n",
    "\n",
    "def _device_to_tket_device():\n",
    "    arc = pytket.routing.Architecture(\n",
    "        list(_qubit_index_edges())\n",
    "    )\n",
    "    return pytket.device.Device({}, {}, arc)\n",
    "\n",
    "device = _device_to_tket_device()\n"
   ]
  },
  {
   "cell_type": "markdown",
   "metadata": {},
   "source": [
    "We now have all the elements in place to perform the esimates!\n",
    "As the instance size is small, we can compute the partition function and the minimum exactly. Thus we will use the exact functions to do the estimates, and not Monte Carlo methods required for larger instances. The function will return the lower bound in the fisrt argument and the ground state energy in the second."
   ]
  },
  {
   "cell_type": "code",
   "execution_count": 5,
   "metadata": {},
   "outputs": [
    {
     "name": "stdout",
     "output_type": "stream",
     "text": [
      "Expected energy of output:  -4.949330540242574 True ground state energy: -18.906099986799198\n"
     ]
    }
   ],
   "source": [
    "try:\n",
    "    import cvxgraphalgs\n",
    "except ImportError:\n",
    "    !pip install --quiet cvxgraphalgs\n",
    "\n",
    "# Clone the entire repo.\n",
    "!git clone -l -s https://github.com/dsfranca/KnowYourLimit.git knowlimits\n",
    "\n",
    "# Change directory into cloned repo\n",
    "%cd knowlimits\n",
    "\n",
    "from estimator import *\n",
    "estimate=estimator_brute_force_weighted(noise,problem_graph,device,gammas,betas)\n",
    "print(\"Expected energy of output: \",estimate[0],\"True ground state energy:\",estimate[1])"
   ]
  },
  {
   "cell_type": "markdown",
   "metadata": {},
   "source": [
    "Now that we done it  once, let us iterate over several instances to see the average effect. You may not want to run this, as it takes several minutes. You can plot the data from one run below."
   ]
  },
  {
   "cell_type": "code",
   "execution_count": 6,
   "metadata": {},
   "outputs": [
    {
     "name": "stdout",
     "output_type": "stream",
     "text": [
      "Estimates so far  9\n",
      "[0.4735460965261586]\n",
      "Estimates so far  10\n",
      "[0.4735460965261586, 0.38546478018855046]\n"
     ]
    }
   ],
   "source": [
    "average_energy=[]\n",
    "for n in range(9,18):\n",
    "    ratios=[]\n",
    "    for k in range(0,12):\n",
    "        problem_graph=sk_model(n)\n",
    "        estimate=estimator_brute_force_weighted(noise,problem_graph,device,gammas,betas)\n",
    "        ratios.append(estimate[0]/estimate[1])\n",
    "    average_energy.append(np.mean(ratios))\n",
    "    print(\"Estimates so far of ratios up to size\",n)\n",
    "    print(average_energy)\n",
    "    np.savetxt(\"results_notebook.csv\", average_energy, delimiter=\",\")\n",
    "    "
   ]
  },
  {
   "cell_type": "markdown",
   "metadata": {},
   "source": [
    "We will now compare the results to the ones by the Google device, fig. 4:"
   ]
  },
  {
   "cell_type": "code",
   "execution_count": 6,
   "metadata": {},
   "outputs": [],
   "source": [
    "#values infeerred from the plot. Will ask for actual values later.\n",
    "results_experiment=[0.25,0.2,0.18,0.17,0.17,0.16,0.13,0.09,0.03]\n",
    "projections = np.genfromtxt('foo2.csv', delimiter=',')\n"
   ]
  },
  {
   "cell_type": "code",
   "execution_count": 7,
   "metadata": {},
   "outputs": [
    {
     "data": {
      "image/png": "[encoded data removed]",
      "text/plain": [
       "<Figure size 432x288 with 1 Axes>"
      ]
     },
     "metadata": {
      "needs_background": "light"
     },
     "output_type": "display_data"
    }
   ],
   "source": [
    "import matplotlib.pyplot as plt\n",
    "plt.plot(range(9,9+len(projections)),projections,color='red',label=\"KnowYourLimits\")\n",
    "plt.plot(range(9,9+len(projections)),results_experiment,color='orange',label=\"Sycamore data\")\n",
    "plt.title(\"Know your limits projections vs. experimental results\")\n",
    "plt.xlabel('Number of qubits')\n",
    "plt.ylabel(\"Ratio expectation value of output and true minimum\")\n",
    "plt.legend()\n",
    "\n",
    "plt.savefig('know_limits_vs_google.png')\n",
    "plt.show()"
   ]
  },
  {
   "cell_type": "markdown",
   "metadata": {},
   "source": [
    "We see that KnowYourLimits gives good predictions on the expected value of actual experiments! \n",
    "Especially in the regime where noise dominates, we  are not off by much! But these experiments were performed at system sizes that still take fractions of a second to solve brute force. Can we say something about larger system sizes, say hundred of qubits? \n",
    "For such explorations, the brute_force functions are no longer suited, as we cannot easily compute such partition functions brute force. Thus, we will resort to Monte Carlo methods to compute them. But the overall structure is the same! Let us illustrate it! First, we will generate a larger problem instance. We will stick to 50 spins in order for the notebook not to run too long, but you should be able to run hundreds of qubits in an hour or so."
   ]
  },
  {
   "cell_type": "code",
   "execution_count": 7,
   "metadata": {},
   "outputs": [],
   "source": [
    "n=50\n",
    "problem_graph=sk_model(n)\n",
    "\n"
   ]
  },
  {
   "cell_type": "markdown",
   "metadata": {},
   "source": [
    "We will also have to change our device, as Sycamore is too small for this model. We will choose a 5x10 rectangular topology for our device."
   ]
  },
  {
   "cell_type": "code",
   "execution_count": 8,
   "metadata": {},
   "outputs": [],
   "source": [
    "device=pytket.device.Device({}, {}, pytket.routing.SquareGrid(5,10)) "
   ]
  },
  {
   "cell_type": "markdown",
   "metadata": {},
   "source": [
    "Let us now estimate the output energy of three rounds of QAOA on this instance of the SK-model with Monte Carlo methods:"
   ]
  },
  {
   "cell_type": "code",
   "execution_count": 9,
   "metadata": {},
   "outputs": [
    {
     "name": "stdout",
     "output_type": "stream",
     "text": [
      "Compiling circuit\n",
      "Circuit compiled\n",
      "Estimating relative entropy of output\n",
      "Estimating partition functions\n",
      "It will take roughly  1 minutes to complete the estimates\n",
      "Expected energy of output:  -2.6005947288517963\n"
     ]
    }
   ],
   "source": [
    "estimate=estimator_monte_carlo(noise,problem_graph,device,gammas,betas)\n",
    "print(\"Expected energy of output: \",estimate)"
   ]
  },
  {
   "cell_type": "markdown",
   "metadata": {},
   "source": [
    "The output's energy can then be readily compared to the SDP relaxation's average energy:"
   ]
  },
  {
   "cell_type": "code",
   "execution_count": 10,
   "metadata": {},
   "outputs": [
    {
     "name": "stdout",
     "output_type": "stream",
     "text": [
      "Expected energy of SDP:  -30.998237299608753\n"
     ]
    }
   ],
   "source": [
    "sdp_energy=SDP_average(problem_graph,10)\n",
    "print(\"Expected energy of SDP: \",sdp_energy)"
   ]
  },
  {
   "cell_type": "markdown",
   "metadata": {},
   "source": [
    "We see that the expected energy of the quantum computer is significantly lower. "
   ]
  },
  {
   "cell_type": "code",
   "execution_count": null,
   "metadata": {},
   "outputs": [],
   "source": []
  }
 ],
 "metadata": {
  "kernelspec": {
   "display_name": "Python 3",
   "language": "python",
   "name": "python3"
  },
  "language_info": {
   "codemirror_mode": {
    "name": "ipython",
    "version": 3
   },
   "file_extension": ".py",
   "mimetype": "text/x-python",
   "name": "python",
   "nbconvert_exporter": "python",
   "pygments_lexer": "ipython3",
   "version": "3.7.4"
  }
 },
 "nbformat": 4,
 "nbformat_minor": 4
}
